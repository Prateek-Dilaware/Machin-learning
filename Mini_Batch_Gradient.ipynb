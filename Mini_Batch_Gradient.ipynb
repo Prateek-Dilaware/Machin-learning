{
 "cells": [
  {
   "cell_type": "code",
   "execution_count": 2,
   "metadata": {},
   "outputs": [
    {
     "name": "stdout",
     "output_type": "stream",
     "text": [
      "Model Coefficients: [[-3.68547006e-01  1.04327067e-01 -5.64127044e-01 -9.71109816e-05\n",
      "  -4.72281074e-02 -8.68704407e-02  1.18888237e+00 -9.79509298e-03\n",
      "  -3.71679795e-01  1.05425133e-02]]\n"
     ]
    }
   ],
   "source": [
    "from sklearn.linear_model import SGDClassifier\n",
    "from sklearn.datasets import make_classification\n",
    "import numpy as np\n",
    "\n",
    "# Generate sample data\n",
    "X, y = make_classification(n_samples=1000, n_features=10, random_state=42)\n",
    "\n",
    "# Define Mini-Batch Size\n",
    "batch_size = 32  \n",
    "\n",
    "# Initialize SGD Classifier\n",
    "model = SGDClassifier(loss=\"log_loss\", learning_rate=\"constant\", eta0=0.01)\n",
    "\n",
    "# Train in Mini-Batches\n",
    "for i in range(0, len(X), batch_size):\n",
    "    X_batch = X[i:i+batch_size]\n",
    "    y_batch = y[i:i+batch_size]\n",
    "    model.partial_fit(X_batch, y_batch, classes=np.unique(y))  # Update on mini-batch\n",
    "\n",
    "print(\"Model Coefficients:\", model.coef_)\n"
   ]
  },
  {
   "cell_type": "code",
   "execution_count": null,
   "metadata": {},
   "outputs": [],
   "source": []
  }
 ],
 "metadata": {
  "kernelspec": {
   "display_name": "Python 3",
   "language": "python",
   "name": "python3"
  },
  "language_info": {
   "codemirror_mode": {
    "name": "ipython",
    "version": 3
   },
   "file_extension": ".py",
   "mimetype": "text/x-python",
   "name": "python",
   "nbconvert_exporter": "python",
   "pygments_lexer": "ipython3",
   "version": "3.11.3"
  }
 },
 "nbformat": 4,
 "nbformat_minor": 2
}
